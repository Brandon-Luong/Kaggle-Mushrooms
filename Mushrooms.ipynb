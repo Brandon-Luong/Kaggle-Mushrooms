{
 "metadata": {
  "language_info": {
   "codemirror_mode": {
    "name": "ipython",
    "version": 3
   },
   "file_extension": ".py",
   "mimetype": "text/x-python",
   "name": "python",
   "nbconvert_exporter": "python",
   "pygments_lexer": "ipython3",
   "version": "3.9.0"
  },
  "orig_nbformat": 2,
  "kernelspec": {
   "name": "python390jvsc74a57bd05f02dcd2c5a18b320dd4b3be2809535d8470fa7438063bf17fca596bd907edff",
   "display_name": "Python 3.9.0 64-bit ('venv': venv)"
  }
 },
 "nbformat": 4,
 "nbformat_minor": 2,
 "cells": [
  {
   "source": [
    "# Mushrooms"
   ],
   "cell_type": "markdown",
   "metadata": {}
  },
  {
   "source": [
    "Goal: Determine whether a mushroom is edible or poisonous."
   ],
   "cell_type": "markdown",
   "metadata": {}
  },
  {
   "source": [
    "## Load in the data"
   ],
   "cell_type": "markdown",
   "metadata": {}
  },
  {
   "source": [
    "import numpy as np\n",
    "import pandas as pd\n",
    "from sklearn.compose import ColumnTransformer\n",
    "from sklearn.preprocessing import LabelEncoder\n",
    "from sklearn.preprocessing import OneHotEncoder\n",
    "from sklearn.model_selection import train_test_split\n",
    "from sklearn.model_selection import cross_val_predict\n",
    "from sklearn.linear_model import SGDClassifier\n",
    "from sklearn.metrics import f1_score"
   ],
   "cell_type": "code",
   "metadata": {},
   "execution_count": 55,
   "outputs": []
  },
  {
   "source": [
    "dataset = pd.read_csv('mushrooms.csv')"
   ],
   "cell_type": "code",
   "metadata": {},
   "execution_count": 2,
   "outputs": []
  },
  {
   "source": [
    "## EDA"
   ],
   "cell_type": "markdown",
   "metadata": {}
  },
  {
   "source": [
    "dataset.head()"
   ],
   "cell_type": "code",
   "metadata": {},
   "execution_count": 3,
   "outputs": [
    {
     "output_type": "execute_result",
     "data": {
      "text/plain": [
       "  class cap-shape cap-surface cap-color bruises odor gill-attachment  \\\n",
       "0     p         x           s         n       t    p               f   \n",
       "1     e         x           s         y       t    a               f   \n",
       "2     e         b           s         w       t    l               f   \n",
       "3     p         x           y         w       t    p               f   \n",
       "4     e         x           s         g       f    n               f   \n",
       "\n",
       "  gill-spacing gill-size gill-color  ... stalk-surface-below-ring  \\\n",
       "0            c         n          k  ...                        s   \n",
       "1            c         b          k  ...                        s   \n",
       "2            c         b          n  ...                        s   \n",
       "3            c         n          n  ...                        s   \n",
       "4            w         b          k  ...                        s   \n",
       "\n",
       "  stalk-color-above-ring stalk-color-below-ring veil-type veil-color  \\\n",
       "0                      w                      w         p          w   \n",
       "1                      w                      w         p          w   \n",
       "2                      w                      w         p          w   \n",
       "3                      w                      w         p          w   \n",
       "4                      w                      w         p          w   \n",
       "\n",
       "  ring-number ring-type spore-print-color population habitat  \n",
       "0           o         p                 k          s       u  \n",
       "1           o         p                 n          n       g  \n",
       "2           o         p                 n          n       m  \n",
       "3           o         p                 k          s       u  \n",
       "4           o         e                 n          a       g  \n",
       "\n",
       "[5 rows x 23 columns]"
      ],
      "text/html": "<div>\n<style scoped>\n    .dataframe tbody tr th:only-of-type {\n        vertical-align: middle;\n    }\n\n    .dataframe tbody tr th {\n        vertical-align: top;\n    }\n\n    .dataframe thead th {\n        text-align: right;\n    }\n</style>\n<table border=\"1\" class=\"dataframe\">\n  <thead>\n    <tr style=\"text-align: right;\">\n      <th></th>\n      <th>class</th>\n      <th>cap-shape</th>\n      <th>cap-surface</th>\n      <th>cap-color</th>\n      <th>bruises</th>\n      <th>odor</th>\n      <th>gill-attachment</th>\n      <th>gill-spacing</th>\n      <th>gill-size</th>\n      <th>gill-color</th>\n      <th>...</th>\n      <th>stalk-surface-below-ring</th>\n      <th>stalk-color-above-ring</th>\n      <th>stalk-color-below-ring</th>\n      <th>veil-type</th>\n      <th>veil-color</th>\n      <th>ring-number</th>\n      <th>ring-type</th>\n      <th>spore-print-color</th>\n      <th>population</th>\n      <th>habitat</th>\n    </tr>\n  </thead>\n  <tbody>\n    <tr>\n      <th>0</th>\n      <td>p</td>\n      <td>x</td>\n      <td>s</td>\n      <td>n</td>\n      <td>t</td>\n      <td>p</td>\n      <td>f</td>\n      <td>c</td>\n      <td>n</td>\n      <td>k</td>\n      <td>...</td>\n      <td>s</td>\n      <td>w</td>\n      <td>w</td>\n      <td>p</td>\n      <td>w</td>\n      <td>o</td>\n      <td>p</td>\n      <td>k</td>\n      <td>s</td>\n      <td>u</td>\n    </tr>\n    <tr>\n      <th>1</th>\n      <td>e</td>\n      <td>x</td>\n      <td>s</td>\n      <td>y</td>\n      <td>t</td>\n      <td>a</td>\n      <td>f</td>\n      <td>c</td>\n      <td>b</td>\n      <td>k</td>\n      <td>...</td>\n      <td>s</td>\n      <td>w</td>\n      <td>w</td>\n      <td>p</td>\n      <td>w</td>\n      <td>o</td>\n      <td>p</td>\n      <td>n</td>\n      <td>n</td>\n      <td>g</td>\n    </tr>\n    <tr>\n      <th>2</th>\n      <td>e</td>\n      <td>b</td>\n      <td>s</td>\n      <td>w</td>\n      <td>t</td>\n      <td>l</td>\n      <td>f</td>\n      <td>c</td>\n      <td>b</td>\n      <td>n</td>\n      <td>...</td>\n      <td>s</td>\n      <td>w</td>\n      <td>w</td>\n      <td>p</td>\n      <td>w</td>\n      <td>o</td>\n      <td>p</td>\n      <td>n</td>\n      <td>n</td>\n      <td>m</td>\n    </tr>\n    <tr>\n      <th>3</th>\n      <td>p</td>\n      <td>x</td>\n      <td>y</td>\n      <td>w</td>\n      <td>t</td>\n      <td>p</td>\n      <td>f</td>\n      <td>c</td>\n      <td>n</td>\n      <td>n</td>\n      <td>...</td>\n      <td>s</td>\n      <td>w</td>\n      <td>w</td>\n      <td>p</td>\n      <td>w</td>\n      <td>o</td>\n      <td>p</td>\n      <td>k</td>\n      <td>s</td>\n      <td>u</td>\n    </tr>\n    <tr>\n      <th>4</th>\n      <td>e</td>\n      <td>x</td>\n      <td>s</td>\n      <td>g</td>\n      <td>f</td>\n      <td>n</td>\n      <td>f</td>\n      <td>w</td>\n      <td>b</td>\n      <td>k</td>\n      <td>...</td>\n      <td>s</td>\n      <td>w</td>\n      <td>w</td>\n      <td>p</td>\n      <td>w</td>\n      <td>o</td>\n      <td>e</td>\n      <td>n</td>\n      <td>a</td>\n      <td>g</td>\n    </tr>\n  </tbody>\n</table>\n<p>5 rows × 23 columns</p>\n</div>"
     },
     "metadata": {},
     "execution_count": 3
    }
   ]
  },
  {
   "cell_type": "code",
   "execution_count": 4,
   "metadata": {},
   "outputs": [
    {
     "output_type": "stream",
     "name": "stdout",
     "text": [
      "<class 'pandas.core.frame.DataFrame'>\nRangeIndex: 8124 entries, 0 to 8123\nData columns (total 23 columns):\n #   Column                    Non-Null Count  Dtype \n---  ------                    --------------  ----- \n 0   class                     8124 non-null   object\n 1   cap-shape                 8124 non-null   object\n 2   cap-surface               8124 non-null   object\n 3   cap-color                 8124 non-null   object\n 4   bruises                   8124 non-null   object\n 5   odor                      8124 non-null   object\n 6   gill-attachment           8124 non-null   object\n 7   gill-spacing              8124 non-null   object\n 8   gill-size                 8124 non-null   object\n 9   gill-color                8124 non-null   object\n 10  stalk-shape               8124 non-null   object\n 11  stalk-root                8124 non-null   object\n 12  stalk-surface-above-ring  8124 non-null   object\n 13  stalk-surface-below-ring  8124 non-null   object\n 14  stalk-color-above-ring    8124 non-null   object\n 15  stalk-color-below-ring    8124 non-null   object\n 16  veil-type                 8124 non-null   object\n 17  veil-color                8124 non-null   object\n 18  ring-number               8124 non-null   object\n 19  ring-type                 8124 non-null   object\n 20  spore-print-color         8124 non-null   object\n 21  population                8124 non-null   object\n 22  habitat                   8124 non-null   object\ndtypes: object(23)\nmemory usage: 1.4+ MB\n"
     ]
    }
   ],
   "source": [
    "dataset.info()"
   ]
  },
  {
   "cell_type": "code",
   "execution_count": 5,
   "metadata": {},
   "outputs": [],
   "source": [
    "dataset['class'] = (dataset['class'] == 'e').astype('int32')"
   ]
  },
  {
   "cell_type": "code",
   "execution_count": 6,
   "metadata": {},
   "outputs": [
    {
     "output_type": "execute_result",
     "data": {
      "text/plain": [
       "              class      \n",
       "               mean count\n",
       "cap-shape                \n",
       "b          0.893805   452\n",
       "c          0.000000     4\n",
       "f          0.506345  3152\n",
       "k          0.275362   828\n",
       "s          1.000000    32\n",
       "x          0.532823  3656"
      ],
      "text/html": "<div>\n<style scoped>\n    .dataframe tbody tr th:only-of-type {\n        vertical-align: middle;\n    }\n\n    .dataframe tbody tr th {\n        vertical-align: top;\n    }\n\n    .dataframe thead tr th {\n        text-align: left;\n    }\n\n    .dataframe thead tr:last-of-type th {\n        text-align: right;\n    }\n</style>\n<table border=\"1\" class=\"dataframe\">\n  <thead>\n    <tr>\n      <th></th>\n      <th colspan=\"2\" halign=\"left\">class</th>\n    </tr>\n    <tr>\n      <th></th>\n      <th>mean</th>\n      <th>count</th>\n    </tr>\n    <tr>\n      <th>cap-shape</th>\n      <th></th>\n      <th></th>\n    </tr>\n  </thead>\n  <tbody>\n    <tr>\n      <th>b</th>\n      <td>0.893805</td>\n      <td>452</td>\n    </tr>\n    <tr>\n      <th>c</th>\n      <td>0.000000</td>\n      <td>4</td>\n    </tr>\n    <tr>\n      <th>f</th>\n      <td>0.506345</td>\n      <td>3152</td>\n    </tr>\n    <tr>\n      <th>k</th>\n      <td>0.275362</td>\n      <td>828</td>\n    </tr>\n    <tr>\n      <th>s</th>\n      <td>1.000000</td>\n      <td>32</td>\n    </tr>\n    <tr>\n      <th>x</th>\n      <td>0.532823</td>\n      <td>3656</td>\n    </tr>\n  </tbody>\n</table>\n</div>"
     },
     "metadata": {},
     "execution_count": 6
    }
   ],
   "source": [
    "dataset[['class', 'cap-shape']].groupby(['cap-shape']).agg(['mean', 'count'])"
   ]
  },
  {
   "source": [
    "cap-shape: bell=b,conical=c,convex=x,flat=f, knobbed=k,sunken=s\n",
    "\n",
    "- convex & flat are inconclusive. There are about an equal of amount of edible vs poisonous.\n",
    "\n",
    "- knobbed has 0.27 which may suggest it may favor poisonous.\n",
    "\n",
    "- bell has 0.89 which may suggest it may favor edible.\n",
    "\n",
    "- sunken & conical are 1.0 and 0.0 but have only have 32 and 4 sample sizes. It may be not enough information to confidently conclude sunken are always edible or conical are always poisonous."
   ],
   "cell_type": "markdown",
   "metadata": {}
  },
  {
   "cell_type": "code",
   "execution_count": 7,
   "metadata": {},
   "outputs": [
    {
     "output_type": "execute_result",
     "data": {
      "text/plain": [
       "                class      \n",
       "                 mean count\n",
       "cap-surface                \n",
       "f            0.672414  2320\n",
       "g            0.000000     4\n",
       "s            0.447574  2556\n",
       "y            0.463625  3244"
      ],
      "text/html": "<div>\n<style scoped>\n    .dataframe tbody tr th:only-of-type {\n        vertical-align: middle;\n    }\n\n    .dataframe tbody tr th {\n        vertical-align: top;\n    }\n\n    .dataframe thead tr th {\n        text-align: left;\n    }\n\n    .dataframe thead tr:last-of-type th {\n        text-align: right;\n    }\n</style>\n<table border=\"1\" class=\"dataframe\">\n  <thead>\n    <tr>\n      <th></th>\n      <th colspan=\"2\" halign=\"left\">class</th>\n    </tr>\n    <tr>\n      <th></th>\n      <th>mean</th>\n      <th>count</th>\n    </tr>\n    <tr>\n      <th>cap-surface</th>\n      <th></th>\n      <th></th>\n    </tr>\n  </thead>\n  <tbody>\n    <tr>\n      <th>f</th>\n      <td>0.672414</td>\n      <td>2320</td>\n    </tr>\n    <tr>\n      <th>g</th>\n      <td>0.000000</td>\n      <td>4</td>\n    </tr>\n    <tr>\n      <th>s</th>\n      <td>0.447574</td>\n      <td>2556</td>\n    </tr>\n    <tr>\n      <th>y</th>\n      <td>0.463625</td>\n      <td>3244</td>\n    </tr>\n  </tbody>\n</table>\n</div>"
     },
     "metadata": {},
     "execution_count": 7
    }
   ],
   "source": [
    "dataset[['class', 'cap-surface']].groupby(['cap-surface']).agg(['mean', 'count'])"
   ]
  },
  {
   "source": [
    "cap-surface: fibrous=f,grooves=g,scaly=y,smooth=s\n",
    "\n",
    "- scaly & smooth hard are inconclusive.\n",
    "\n",
    "- fibrous may be more edible but with 0.67, it's not very high.\n",
    "\n",
    "- grooves only has sample size 4 so it's too small to say anything."
   ],
   "cell_type": "markdown",
   "metadata": {}
  },
  {
   "cell_type": "code",
   "execution_count": 8,
   "metadata": {},
   "outputs": [
    {
     "output_type": "execute_result",
     "data": {
      "text/plain": [
       "              class      \n",
       "               mean count\n",
       "cap-color                \n",
       "b          0.285714   168\n",
       "c          0.727273    44\n",
       "e          0.416000  1500\n",
       "g          0.560870  1840\n",
       "n          0.553415  2284\n",
       "p          0.388889   144\n",
       "r          1.000000    16\n",
       "u          1.000000    16\n",
       "w          0.692308  1040\n",
       "y          0.373134  1072"
      ],
      "text/html": "<div>\n<style scoped>\n    .dataframe tbody tr th:only-of-type {\n        vertical-align: middle;\n    }\n\n    .dataframe tbody tr th {\n        vertical-align: top;\n    }\n\n    .dataframe thead tr th {\n        text-align: left;\n    }\n\n    .dataframe thead tr:last-of-type th {\n        text-align: right;\n    }\n</style>\n<table border=\"1\" class=\"dataframe\">\n  <thead>\n    <tr>\n      <th></th>\n      <th colspan=\"2\" halign=\"left\">class</th>\n    </tr>\n    <tr>\n      <th></th>\n      <th>mean</th>\n      <th>count</th>\n    </tr>\n    <tr>\n      <th>cap-color</th>\n      <th></th>\n      <th></th>\n    </tr>\n  </thead>\n  <tbody>\n    <tr>\n      <th>b</th>\n      <td>0.285714</td>\n      <td>168</td>\n    </tr>\n    <tr>\n      <th>c</th>\n      <td>0.727273</td>\n      <td>44</td>\n    </tr>\n    <tr>\n      <th>e</th>\n      <td>0.416000</td>\n      <td>1500</td>\n    </tr>\n    <tr>\n      <th>g</th>\n      <td>0.560870</td>\n      <td>1840</td>\n    </tr>\n    <tr>\n      <th>n</th>\n      <td>0.553415</td>\n      <td>2284</td>\n    </tr>\n    <tr>\n      <th>p</th>\n      <td>0.388889</td>\n      <td>144</td>\n    </tr>\n    <tr>\n      <th>r</th>\n      <td>1.000000</td>\n      <td>16</td>\n    </tr>\n    <tr>\n      <th>u</th>\n      <td>1.000000</td>\n      <td>16</td>\n    </tr>\n    <tr>\n      <th>w</th>\n      <td>0.692308</td>\n      <td>1040</td>\n    </tr>\n    <tr>\n      <th>y</th>\n      <td>0.373134</td>\n      <td>1072</td>\n    </tr>\n  </tbody>\n</table>\n</div>"
     },
     "metadata": {},
     "execution_count": 8
    }
   ],
   "source": [
    "dataset[['class', 'cap-color']].groupby(['cap-color']).agg(['mean', 'count'])"
   ]
  },
  {
   "source": [
    "cap-color: brown=n,buff=b,cinnamon=c,gray=g,green=r,pink=p,purple=u,red=e,white=w,yellow=y\n",
    "\n",
    "- Hard to say with cap color. "
   ],
   "cell_type": "markdown",
   "metadata": {}
  },
  {
   "cell_type": "code",
   "execution_count": 9,
   "metadata": {},
   "outputs": [
    {
     "output_type": "execute_result",
     "data": {
      "text/plain": [
       "            class      \n",
       "             mean count\n",
       "bruises                \n",
       "f        0.306655  4748\n",
       "t        0.815166  3376"
      ],
      "text/html": "<div>\n<style scoped>\n    .dataframe tbody tr th:only-of-type {\n        vertical-align: middle;\n    }\n\n    .dataframe tbody tr th {\n        vertical-align: top;\n    }\n\n    .dataframe thead tr th {\n        text-align: left;\n    }\n\n    .dataframe thead tr:last-of-type th {\n        text-align: right;\n    }\n</style>\n<table border=\"1\" class=\"dataframe\">\n  <thead>\n    <tr>\n      <th></th>\n      <th colspan=\"2\" halign=\"left\">class</th>\n    </tr>\n    <tr>\n      <th></th>\n      <th>mean</th>\n      <th>count</th>\n    </tr>\n    <tr>\n      <th>bruises</th>\n      <th></th>\n      <th></th>\n    </tr>\n  </thead>\n  <tbody>\n    <tr>\n      <th>f</th>\n      <td>0.306655</td>\n      <td>4748</td>\n    </tr>\n    <tr>\n      <th>t</th>\n      <td>0.815166</td>\n      <td>3376</td>\n    </tr>\n  </tbody>\n</table>\n</div>"
     },
     "metadata": {},
     "execution_count": 9
    }
   ],
   "source": [
    "dataset[['class', 'bruises']].groupby(['bruises']).agg(['mean', 'count'])"
   ]
  },
  {
   "source": [
    "bruises: bruises=t,no=f\n",
    "\n",
    "- with bruises seem to be more edible than no bruises."
   ],
   "cell_type": "markdown",
   "metadata": {}
  },
  {
   "cell_type": "code",
   "execution_count": 10,
   "metadata": {},
   "outputs": [
    {
     "output_type": "execute_result",
     "data": {
      "text/plain": [
       "         class      \n",
       "          mean count\n",
       "odor                \n",
       "a     1.000000   400\n",
       "c     0.000000   192\n",
       "f     0.000000  2160\n",
       "l     1.000000   400\n",
       "m     0.000000    36\n",
       "n     0.965986  3528\n",
       "p     0.000000   256\n",
       "s     0.000000   576\n",
       "y     0.000000   576"
      ],
      "text/html": "<div>\n<style scoped>\n    .dataframe tbody tr th:only-of-type {\n        vertical-align: middle;\n    }\n\n    .dataframe tbody tr th {\n        vertical-align: top;\n    }\n\n    .dataframe thead tr th {\n        text-align: left;\n    }\n\n    .dataframe thead tr:last-of-type th {\n        text-align: right;\n    }\n</style>\n<table border=\"1\" class=\"dataframe\">\n  <thead>\n    <tr>\n      <th></th>\n      <th colspan=\"2\" halign=\"left\">class</th>\n    </tr>\n    <tr>\n      <th></th>\n      <th>mean</th>\n      <th>count</th>\n    </tr>\n    <tr>\n      <th>odor</th>\n      <th></th>\n      <th></th>\n    </tr>\n  </thead>\n  <tbody>\n    <tr>\n      <th>a</th>\n      <td>1.000000</td>\n      <td>400</td>\n    </tr>\n    <tr>\n      <th>c</th>\n      <td>0.000000</td>\n      <td>192</td>\n    </tr>\n    <tr>\n      <th>f</th>\n      <td>0.000000</td>\n      <td>2160</td>\n    </tr>\n    <tr>\n      <th>l</th>\n      <td>1.000000</td>\n      <td>400</td>\n    </tr>\n    <tr>\n      <th>m</th>\n      <td>0.000000</td>\n      <td>36</td>\n    </tr>\n    <tr>\n      <th>n</th>\n      <td>0.965986</td>\n      <td>3528</td>\n    </tr>\n    <tr>\n      <th>p</th>\n      <td>0.000000</td>\n      <td>256</td>\n    </tr>\n    <tr>\n      <th>s</th>\n      <td>0.000000</td>\n      <td>576</td>\n    </tr>\n    <tr>\n      <th>y</th>\n      <td>0.000000</td>\n      <td>576</td>\n    </tr>\n  </tbody>\n</table>\n</div>"
     },
     "metadata": {},
     "execution_count": 10
    }
   ],
   "source": [
    "dataset[['class', 'odor']].groupby(['odor']).agg(['mean', 'count'])"
   ]
  },
  {
   "source": [
    "odor: almond=a,anise=l,creosote(aka \"smoky\")=c, fishy=y,foul=f,musty=m,none=n,pungent=p,spicy=s\n",
    "\n",
    "- Most good or neutral smells are edible (almond, anise, none)\n",
    "\n",
    "- Most bad smells are poisonous (creosote, fishy, foul, musty, pungent, spicy)"
   ],
   "cell_type": "markdown",
   "metadata": {}
  },
  {
   "cell_type": "code",
   "execution_count": 11,
   "metadata": {},
   "outputs": [
    {
     "output_type": "execute_result",
     "data": {
      "text/plain": [
       "                    class      \n",
       "                     mean count\n",
       "gill-attachment                \n",
       "a                0.914286   210\n",
       "f                0.507455  7914"
      ],
      "text/html": "<div>\n<style scoped>\n    .dataframe tbody tr th:only-of-type {\n        vertical-align: middle;\n    }\n\n    .dataframe tbody tr th {\n        vertical-align: top;\n    }\n\n    .dataframe thead tr th {\n        text-align: left;\n    }\n\n    .dataframe thead tr:last-of-type th {\n        text-align: right;\n    }\n</style>\n<table border=\"1\" class=\"dataframe\">\n  <thead>\n    <tr>\n      <th></th>\n      <th colspan=\"2\" halign=\"left\">class</th>\n    </tr>\n    <tr>\n      <th></th>\n      <th>mean</th>\n      <th>count</th>\n    </tr>\n    <tr>\n      <th>gill-attachment</th>\n      <th></th>\n      <th></th>\n    </tr>\n  </thead>\n  <tbody>\n    <tr>\n      <th>a</th>\n      <td>0.914286</td>\n      <td>210</td>\n    </tr>\n    <tr>\n      <th>f</th>\n      <td>0.507455</td>\n      <td>7914</td>\n    </tr>\n  </tbody>\n</table>\n</div>"
     },
     "metadata": {},
     "execution_count": 11
    }
   ],
   "source": [
    "dataset[['class', 'gill-attachment']].groupby(['gill-attachment']).agg(['mean', 'count'])"
   ]
  },
  {
   "source": [
    "gill-attachment: attached=a,descending=d,free=f,notched=n\n",
    "\n",
    "- **There are no descending or notched.**\n",
    "\n",
    "- Most gill attached are edible but not large sample size.\n",
    "\n",
    "- Free gill inconclusive."
   ],
   "cell_type": "markdown",
   "metadata": {}
  },
  {
   "cell_type": "code",
   "execution_count": 12,
   "metadata": {},
   "outputs": [
    {
     "output_type": "execute_result",
     "data": {
      "text/plain": [
       "                 class      \n",
       "                  mean count\n",
       "gill-spacing                \n",
       "c             0.441574  6812\n",
       "w             0.914634  1312"
      ],
      "text/html": "<div>\n<style scoped>\n    .dataframe tbody tr th:only-of-type {\n        vertical-align: middle;\n    }\n\n    .dataframe tbody tr th {\n        vertical-align: top;\n    }\n\n    .dataframe thead tr th {\n        text-align: left;\n    }\n\n    .dataframe thead tr:last-of-type th {\n        text-align: right;\n    }\n</style>\n<table border=\"1\" class=\"dataframe\">\n  <thead>\n    <tr>\n      <th></th>\n      <th colspan=\"2\" halign=\"left\">class</th>\n    </tr>\n    <tr>\n      <th></th>\n      <th>mean</th>\n      <th>count</th>\n    </tr>\n    <tr>\n      <th>gill-spacing</th>\n      <th></th>\n      <th></th>\n    </tr>\n  </thead>\n  <tbody>\n    <tr>\n      <th>c</th>\n      <td>0.441574</td>\n      <td>6812</td>\n    </tr>\n    <tr>\n      <th>w</th>\n      <td>0.914634</td>\n      <td>1312</td>\n    </tr>\n  </tbody>\n</table>\n</div>"
     },
     "metadata": {},
     "execution_count": 12
    }
   ],
   "source": [
    "dataset[['class', 'gill-spacing']].groupby(['gill-spacing']).agg(['mean', 'count'])"
   ]
  },
  {
   "source": [
    "gill-spacing: close=c,crowded=w,distant=d\n",
    "\n",
    "- **No distant gill spacing.**\n",
    "\n",
    "- Most crowded are edible."
   ],
   "cell_type": "markdown",
   "metadata": {}
  },
  {
   "cell_type": "code",
   "execution_count": 13,
   "metadata": {},
   "outputs": [
    {
     "output_type": "execute_result",
     "data": {
      "text/plain": [
       "              class      \n",
       "               mean count\n",
       "gill-size                \n",
       "b          0.698503  5612\n",
       "n          0.114650  2512"
      ],
      "text/html": "<div>\n<style scoped>\n    .dataframe tbody tr th:only-of-type {\n        vertical-align: middle;\n    }\n\n    .dataframe tbody tr th {\n        vertical-align: top;\n    }\n\n    .dataframe thead tr th {\n        text-align: left;\n    }\n\n    .dataframe thead tr:last-of-type th {\n        text-align: right;\n    }\n</style>\n<table border=\"1\" class=\"dataframe\">\n  <thead>\n    <tr>\n      <th></th>\n      <th colspan=\"2\" halign=\"left\">class</th>\n    </tr>\n    <tr>\n      <th></th>\n      <th>mean</th>\n      <th>count</th>\n    </tr>\n    <tr>\n      <th>gill-size</th>\n      <th></th>\n      <th></th>\n    </tr>\n  </thead>\n  <tbody>\n    <tr>\n      <th>b</th>\n      <td>0.698503</td>\n      <td>5612</td>\n    </tr>\n    <tr>\n      <th>n</th>\n      <td>0.114650</td>\n      <td>2512</td>\n    </tr>\n  </tbody>\n</table>\n</div>"
     },
     "metadata": {},
     "execution_count": 13
    }
   ],
   "source": [
    "dataset[['class', 'gill-size']].groupby(['gill-size']).agg(['mean', 'count'])"
   ]
  },
  {
   "source": [
    "gill-size: broad=b,narrow=n\n",
    "\n",
    "- Most narrow are poisonous."
   ],
   "cell_type": "markdown",
   "metadata": {}
  },
  {
   "cell_type": "code",
   "execution_count": 14,
   "metadata": {},
   "outputs": [
    {
     "output_type": "execute_result",
     "data": {
      "text/plain": [
       "               class      \n",
       "                mean count\n",
       "gill-color                \n",
       "b           0.000000  1728\n",
       "e           1.000000    96\n",
       "g           0.329787   752\n",
       "h           0.278689   732\n",
       "k           0.843137   408\n",
       "n           0.893130  1048\n",
       "o           1.000000    64\n",
       "p           0.571046  1492\n",
       "r           0.000000    24\n",
       "u           0.902439   492\n",
       "w           0.795341  1202\n",
       "y           0.744186    86"
      ],
      "text/html": "<div>\n<style scoped>\n    .dataframe tbody tr th:only-of-type {\n        vertical-align: middle;\n    }\n\n    .dataframe tbody tr th {\n        vertical-align: top;\n    }\n\n    .dataframe thead tr th {\n        text-align: left;\n    }\n\n    .dataframe thead tr:last-of-type th {\n        text-align: right;\n    }\n</style>\n<table border=\"1\" class=\"dataframe\">\n  <thead>\n    <tr>\n      <th></th>\n      <th colspan=\"2\" halign=\"left\">class</th>\n    </tr>\n    <tr>\n      <th></th>\n      <th>mean</th>\n      <th>count</th>\n    </tr>\n    <tr>\n      <th>gill-color</th>\n      <th></th>\n      <th></th>\n    </tr>\n  </thead>\n  <tbody>\n    <tr>\n      <th>b</th>\n      <td>0.000000</td>\n      <td>1728</td>\n    </tr>\n    <tr>\n      <th>e</th>\n      <td>1.000000</td>\n      <td>96</td>\n    </tr>\n    <tr>\n      <th>g</th>\n      <td>0.329787</td>\n      <td>752</td>\n    </tr>\n    <tr>\n      <th>h</th>\n      <td>0.278689</td>\n      <td>732</td>\n    </tr>\n    <tr>\n      <th>k</th>\n      <td>0.843137</td>\n      <td>408</td>\n    </tr>\n    <tr>\n      <th>n</th>\n      <td>0.893130</td>\n      <td>1048</td>\n    </tr>\n    <tr>\n      <th>o</th>\n      <td>1.000000</td>\n      <td>64</td>\n    </tr>\n    <tr>\n      <th>p</th>\n      <td>0.571046</td>\n      <td>1492</td>\n    </tr>\n    <tr>\n      <th>r</th>\n      <td>0.000000</td>\n      <td>24</td>\n    </tr>\n    <tr>\n      <th>u</th>\n      <td>0.902439</td>\n      <td>492</td>\n    </tr>\n    <tr>\n      <th>w</th>\n      <td>0.795341</td>\n      <td>1202</td>\n    </tr>\n    <tr>\n      <th>y</th>\n      <td>0.744186</td>\n      <td>86</td>\n    </tr>\n  </tbody>\n</table>\n</div>"
     },
     "metadata": {},
     "execution_count": 14
    }
   ],
   "source": [
    "dataset[['class', 'gill-color']].groupby(['gill-color']).agg(['mean', 'count'])"
   ]
  },
  {
   "source": [
    "gill-color: black=k,brown=n,buff=b,chocolate=h,gray=g, green=r,orange=o,pink=p,purple=u,red=e,white=w,yellow=y\n",
    "\n",
    "- Buff gill color is a good sign of poisonous.\n",
    "\n",
    "- Gray or chocolate may be poisonous.\n",
    "\n",
    "- Brown may be edible."
   ],
   "cell_type": "markdown",
   "metadata": {}
  },
  {
   "cell_type": "code",
   "execution_count": 15,
   "metadata": {},
   "outputs": [
    {
     "output_type": "execute_result",
     "data": {
      "text/plain": [
       "                class      \n",
       "                 mean count\n",
       "stalk-shape                \n",
       "e            0.459613  3516\n",
       "t            0.562500  4608"
      ],
      "text/html": "<div>\n<style scoped>\n    .dataframe tbody tr th:only-of-type {\n        vertical-align: middle;\n    }\n\n    .dataframe tbody tr th {\n        vertical-align: top;\n    }\n\n    .dataframe thead tr th {\n        text-align: left;\n    }\n\n    .dataframe thead tr:last-of-type th {\n        text-align: right;\n    }\n</style>\n<table border=\"1\" class=\"dataframe\">\n  <thead>\n    <tr>\n      <th></th>\n      <th colspan=\"2\" halign=\"left\">class</th>\n    </tr>\n    <tr>\n      <th></th>\n      <th>mean</th>\n      <th>count</th>\n    </tr>\n    <tr>\n      <th>stalk-shape</th>\n      <th></th>\n      <th></th>\n    </tr>\n  </thead>\n  <tbody>\n    <tr>\n      <th>e</th>\n      <td>0.459613</td>\n      <td>3516</td>\n    </tr>\n    <tr>\n      <th>t</th>\n      <td>0.562500</td>\n      <td>4608</td>\n    </tr>\n  </tbody>\n</table>\n</div>"
     },
     "metadata": {},
     "execution_count": 15
    }
   ],
   "source": [
    "dataset[['class', 'stalk-shape']].groupby(['stalk-shape']).agg(['mean', 'count'])"
   ]
  },
  {
   "source": [
    "stalk-shape: enlarging=e,tapering=t\n",
    "\n",
    "- Both are too close to make anything conclusive."
   ],
   "cell_type": "markdown",
   "metadata": {}
  },
  {
   "cell_type": "code",
   "execution_count": 16,
   "metadata": {},
   "outputs": [
    {
     "output_type": "execute_result",
     "data": {
      "text/plain": [
       "               class      \n",
       "                mean count\n",
       "stalk-root                \n",
       "?           0.290323  2480\n",
       "b           0.508475  3776\n",
       "c           0.920863   556\n",
       "e           0.771429  1120\n",
       "r           1.000000   192"
      ],
      "text/html": "<div>\n<style scoped>\n    .dataframe tbody tr th:only-of-type {\n        vertical-align: middle;\n    }\n\n    .dataframe tbody tr th {\n        vertical-align: top;\n    }\n\n    .dataframe thead tr th {\n        text-align: left;\n    }\n\n    .dataframe thead tr:last-of-type th {\n        text-align: right;\n    }\n</style>\n<table border=\"1\" class=\"dataframe\">\n  <thead>\n    <tr>\n      <th></th>\n      <th colspan=\"2\" halign=\"left\">class</th>\n    </tr>\n    <tr>\n      <th></th>\n      <th>mean</th>\n      <th>count</th>\n    </tr>\n    <tr>\n      <th>stalk-root</th>\n      <th></th>\n      <th></th>\n    </tr>\n  </thead>\n  <tbody>\n    <tr>\n      <th>?</th>\n      <td>0.290323</td>\n      <td>2480</td>\n    </tr>\n    <tr>\n      <th>b</th>\n      <td>0.508475</td>\n      <td>3776</td>\n    </tr>\n    <tr>\n      <th>c</th>\n      <td>0.920863</td>\n      <td>556</td>\n    </tr>\n    <tr>\n      <th>e</th>\n      <td>0.771429</td>\n      <td>1120</td>\n    </tr>\n    <tr>\n      <th>r</th>\n      <td>1.000000</td>\n      <td>192</td>\n    </tr>\n  </tbody>\n</table>\n</div>"
     },
     "metadata": {},
     "execution_count": 16
    }
   ],
   "source": [
    "dataset[['class', 'stalk-root']].groupby(['stalk-root']).agg(['mean', 'count'])"
   ]
  },
  {
   "source": [
    "stalk-root: bulbous=b,club=c,cup=u,equal=e,rhizomorphs=z,rooted=r,missing=?\n",
    "\n",
    "- **Does \"missing=?\" mean missing value (NA) or it does not have a stalk-root?**\n",
    "\n",
    "- Club may be edible."
   ],
   "cell_type": "markdown",
   "metadata": {}
  },
  {
   "cell_type": "code",
   "execution_count": 17,
   "metadata": {},
   "outputs": [
    {
     "output_type": "execute_result",
     "data": {
      "text/plain": [
       "                             class      \n",
       "                              mean count\n",
       "stalk-surface-above-ring                \n",
       "f                         0.739130   552\n",
       "k                         0.060708  2372\n",
       "s                         0.703246  5176\n",
       "y                         0.666667    24"
      ],
      "text/html": "<div>\n<style scoped>\n    .dataframe tbody tr th:only-of-type {\n        vertical-align: middle;\n    }\n\n    .dataframe tbody tr th {\n        vertical-align: top;\n    }\n\n    .dataframe thead tr th {\n        text-align: left;\n    }\n\n    .dataframe thead tr:last-of-type th {\n        text-align: right;\n    }\n</style>\n<table border=\"1\" class=\"dataframe\">\n  <thead>\n    <tr>\n      <th></th>\n      <th colspan=\"2\" halign=\"left\">class</th>\n    </tr>\n    <tr>\n      <th></th>\n      <th>mean</th>\n      <th>count</th>\n    </tr>\n    <tr>\n      <th>stalk-surface-above-ring</th>\n      <th></th>\n      <th></th>\n    </tr>\n  </thead>\n  <tbody>\n    <tr>\n      <th>f</th>\n      <td>0.739130</td>\n      <td>552</td>\n    </tr>\n    <tr>\n      <th>k</th>\n      <td>0.060708</td>\n      <td>2372</td>\n    </tr>\n    <tr>\n      <th>s</th>\n      <td>0.703246</td>\n      <td>5176</td>\n    </tr>\n    <tr>\n      <th>y</th>\n      <td>0.666667</td>\n      <td>24</td>\n    </tr>\n  </tbody>\n</table>\n</div>"
     },
     "metadata": {},
     "execution_count": 17
    }
   ],
   "source": [
    "dataset[['class', 'stalk-surface-above-ring']].groupby(['stalk-surface-above-ring']).agg(['mean', 'count'])"
   ]
  },
  {
   "source": [
    "stalk-surface-above-ring: fibrous=f,scaly=y,silky=k,smooth=s\n",
    "\n",
    "- Silky may be a good sign it is poisonous."
   ],
   "cell_type": "markdown",
   "metadata": {}
  },
  {
   "cell_type": "code",
   "execution_count": 18,
   "metadata": {},
   "outputs": [
    {
     "output_type": "execute_result",
     "data": {
      "text/plain": [
       "                             class      \n",
       "                              mean count\n",
       "stalk-surface-below-ring                \n",
       "f                         0.760000   600\n",
       "k                         0.062500  2304\n",
       "s                         0.688817  4936\n",
       "y                         0.732394   284"
      ],
      "text/html": "<div>\n<style scoped>\n    .dataframe tbody tr th:only-of-type {\n        vertical-align: middle;\n    }\n\n    .dataframe tbody tr th {\n        vertical-align: top;\n    }\n\n    .dataframe thead tr th {\n        text-align: left;\n    }\n\n    .dataframe thead tr:last-of-type th {\n        text-align: right;\n    }\n</style>\n<table border=\"1\" class=\"dataframe\">\n  <thead>\n    <tr>\n      <th></th>\n      <th colspan=\"2\" halign=\"left\">class</th>\n    </tr>\n    <tr>\n      <th></th>\n      <th>mean</th>\n      <th>count</th>\n    </tr>\n    <tr>\n      <th>stalk-surface-below-ring</th>\n      <th></th>\n      <th></th>\n    </tr>\n  </thead>\n  <tbody>\n    <tr>\n      <th>f</th>\n      <td>0.760000</td>\n      <td>600</td>\n    </tr>\n    <tr>\n      <th>k</th>\n      <td>0.062500</td>\n      <td>2304</td>\n    </tr>\n    <tr>\n      <th>s</th>\n      <td>0.688817</td>\n      <td>4936</td>\n    </tr>\n    <tr>\n      <th>y</th>\n      <td>0.732394</td>\n      <td>284</td>\n    </tr>\n  </tbody>\n</table>\n</div>"
     },
     "metadata": {},
     "execution_count": 18
    }
   ],
   "source": [
    "dataset[['class', 'stalk-surface-below-ring']].groupby(['stalk-surface-below-ring']).agg(['mean', 'count'])"
   ]
  },
  {
   "source": [
    "stalk-surface-below-ring: fibrous=f,scaly=y,silky=k,smooth=s\n",
    "\n",
    "- Silky may be a good sign it is poisonous. Same as stalk-surface-above-ring."
   ],
   "cell_type": "markdown",
   "metadata": {}
  },
  {
   "cell_type": "code",
   "execution_count": 19,
   "metadata": {},
   "outputs": [
    {
     "output_type": "execute_result",
     "data": {
      "text/plain": [
       "                           class      \n",
       "                            mean count\n",
       "stalk-color-above-ring                \n",
       "b                       0.000000   432\n",
       "c                       0.000000    36\n",
       "e                       1.000000    96\n",
       "g                       1.000000   576\n",
       "n                       0.035714   448\n",
       "o                       1.000000   192\n",
       "p                       0.307692  1872\n",
       "w                       0.616487  4464\n",
       "y                       0.000000     8"
      ],
      "text/html": "<div>\n<style scoped>\n    .dataframe tbody tr th:only-of-type {\n        vertical-align: middle;\n    }\n\n    .dataframe tbody tr th {\n        vertical-align: top;\n    }\n\n    .dataframe thead tr th {\n        text-align: left;\n    }\n\n    .dataframe thead tr:last-of-type th {\n        text-align: right;\n    }\n</style>\n<table border=\"1\" class=\"dataframe\">\n  <thead>\n    <tr>\n      <th></th>\n      <th colspan=\"2\" halign=\"left\">class</th>\n    </tr>\n    <tr>\n      <th></th>\n      <th>mean</th>\n      <th>count</th>\n    </tr>\n    <tr>\n      <th>stalk-color-above-ring</th>\n      <th></th>\n      <th></th>\n    </tr>\n  </thead>\n  <tbody>\n    <tr>\n      <th>b</th>\n      <td>0.000000</td>\n      <td>432</td>\n    </tr>\n    <tr>\n      <th>c</th>\n      <td>0.000000</td>\n      <td>36</td>\n    </tr>\n    <tr>\n      <th>e</th>\n      <td>1.000000</td>\n      <td>96</td>\n    </tr>\n    <tr>\n      <th>g</th>\n      <td>1.000000</td>\n      <td>576</td>\n    </tr>\n    <tr>\n      <th>n</th>\n      <td>0.035714</td>\n      <td>448</td>\n    </tr>\n    <tr>\n      <th>o</th>\n      <td>1.000000</td>\n      <td>192</td>\n    </tr>\n    <tr>\n      <th>p</th>\n      <td>0.307692</td>\n      <td>1872</td>\n    </tr>\n    <tr>\n      <th>w</th>\n      <td>0.616487</td>\n      <td>4464</td>\n    </tr>\n    <tr>\n      <th>y</th>\n      <td>0.000000</td>\n      <td>8</td>\n    </tr>\n  </tbody>\n</table>\n</div>"
     },
     "metadata": {},
     "execution_count": 19
    }
   ],
   "source": [
    "dataset[['class', 'stalk-color-above-ring']].groupby(['stalk-color-above-ring']).agg(['mean', 'count'])"
   ]
  },
  {
   "source": [
    "stalk-color-above-ring: brown=n,buff=b,cinnamon=c,gray=g,orange=o,pink=p,red=e,white=w,yellow=y\n",
    "\n",
    "- pink may be a good sign of poisonous."
   ],
   "cell_type": "markdown",
   "metadata": {}
  },
  {
   "cell_type": "code",
   "execution_count": 20,
   "metadata": {},
   "outputs": [
    {
     "output_type": "execute_result",
     "data": {
      "text/plain": [
       "                           class      \n",
       "                            mean count\n",
       "stalk-color-below-ring                \n",
       "b                       0.000000   432\n",
       "c                       0.000000    36\n",
       "e                       1.000000    96\n",
       "g                       1.000000   576\n",
       "n                       0.125000   512\n",
       "o                       1.000000   192\n",
       "p                       0.307692  1872\n",
       "w                       0.616788  4384\n",
       "y                       0.000000    24"
      ],
      "text/html": "<div>\n<style scoped>\n    .dataframe tbody tr th:only-of-type {\n        vertical-align: middle;\n    }\n\n    .dataframe tbody tr th {\n        vertical-align: top;\n    }\n\n    .dataframe thead tr th {\n        text-align: left;\n    }\n\n    .dataframe thead tr:last-of-type th {\n        text-align: right;\n    }\n</style>\n<table border=\"1\" class=\"dataframe\">\n  <thead>\n    <tr>\n      <th></th>\n      <th colspan=\"2\" halign=\"left\">class</th>\n    </tr>\n    <tr>\n      <th></th>\n      <th>mean</th>\n      <th>count</th>\n    </tr>\n    <tr>\n      <th>stalk-color-below-ring</th>\n      <th></th>\n      <th></th>\n    </tr>\n  </thead>\n  <tbody>\n    <tr>\n      <th>b</th>\n      <td>0.000000</td>\n      <td>432</td>\n    </tr>\n    <tr>\n      <th>c</th>\n      <td>0.000000</td>\n      <td>36</td>\n    </tr>\n    <tr>\n      <th>e</th>\n      <td>1.000000</td>\n      <td>96</td>\n    </tr>\n    <tr>\n      <th>g</th>\n      <td>1.000000</td>\n      <td>576</td>\n    </tr>\n    <tr>\n      <th>n</th>\n      <td>0.125000</td>\n      <td>512</td>\n    </tr>\n    <tr>\n      <th>o</th>\n      <td>1.000000</td>\n      <td>192</td>\n    </tr>\n    <tr>\n      <th>p</th>\n      <td>0.307692</td>\n      <td>1872</td>\n    </tr>\n    <tr>\n      <th>w</th>\n      <td>0.616788</td>\n      <td>4384</td>\n    </tr>\n    <tr>\n      <th>y</th>\n      <td>0.000000</td>\n      <td>24</td>\n    </tr>\n  </tbody>\n</table>\n</div>"
     },
     "metadata": {},
     "execution_count": 20
    }
   ],
   "source": [
    "dataset[['class', 'stalk-color-below-ring']].groupby(['stalk-color-below-ring']).agg(['mean', 'count'])"
   ]
  },
  {
   "source": [
    "stalk-color-below-ring: brown=n,buff=b,cinnamon=c,gray=g,orange=o,pink=p,red=e,white=w,yellow=y\n",
    "\n",
    "- pink may be a good sign of poisonous."
   ],
   "cell_type": "markdown",
   "metadata": {}
  },
  {
   "cell_type": "code",
   "execution_count": 21,
   "metadata": {},
   "outputs": [
    {
     "output_type": "execute_result",
     "data": {
      "text/plain": [
       "              class      \n",
       "               mean count\n",
       "veil-type                \n",
       "p          0.517971  8124"
      ],
      "text/html": "<div>\n<style scoped>\n    .dataframe tbody tr th:only-of-type {\n        vertical-align: middle;\n    }\n\n    .dataframe tbody tr th {\n        vertical-align: top;\n    }\n\n    .dataframe thead tr th {\n        text-align: left;\n    }\n\n    .dataframe thead tr:last-of-type th {\n        text-align: right;\n    }\n</style>\n<table border=\"1\" class=\"dataframe\">\n  <thead>\n    <tr>\n      <th></th>\n      <th colspan=\"2\" halign=\"left\">class</th>\n    </tr>\n    <tr>\n      <th></th>\n      <th>mean</th>\n      <th>count</th>\n    </tr>\n    <tr>\n      <th>veil-type</th>\n      <th></th>\n      <th></th>\n    </tr>\n  </thead>\n  <tbody>\n    <tr>\n      <th>p</th>\n      <td>0.517971</td>\n      <td>8124</td>\n    </tr>\n  </tbody>\n</table>\n</div>"
     },
     "metadata": {},
     "execution_count": 21
    }
   ],
   "source": [
    "dataset[['class', 'veil-type']].groupby(['veil-type']).agg(['mean', 'count'])"
   ]
  },
  {
   "source": [
    "veil-type: partial=p,universal=u\n",
    "\n",
    "- No universal.\n",
    "\n",
    "- Inconclusive on just partial."
   ],
   "cell_type": "markdown",
   "metadata": {}
  },
  {
   "cell_type": "code",
   "execution_count": 22,
   "metadata": {},
   "outputs": [
    {
     "output_type": "execute_result",
     "data": {
      "text/plain": [
       "               class      \n",
       "                mean count\n",
       "veil-color                \n",
       "n           1.000000    96\n",
       "o           1.000000    96\n",
       "w           0.506815  7924\n",
       "y           0.000000     8"
      ],
      "text/html": "<div>\n<style scoped>\n    .dataframe tbody tr th:only-of-type {\n        vertical-align: middle;\n    }\n\n    .dataframe tbody tr th {\n        vertical-align: top;\n    }\n\n    .dataframe thead tr th {\n        text-align: left;\n    }\n\n    .dataframe thead tr:last-of-type th {\n        text-align: right;\n    }\n</style>\n<table border=\"1\" class=\"dataframe\">\n  <thead>\n    <tr>\n      <th></th>\n      <th colspan=\"2\" halign=\"left\">class</th>\n    </tr>\n    <tr>\n      <th></th>\n      <th>mean</th>\n      <th>count</th>\n    </tr>\n    <tr>\n      <th>veil-color</th>\n      <th></th>\n      <th></th>\n    </tr>\n  </thead>\n  <tbody>\n    <tr>\n      <th>n</th>\n      <td>1.000000</td>\n      <td>96</td>\n    </tr>\n    <tr>\n      <th>o</th>\n      <td>1.000000</td>\n      <td>96</td>\n    </tr>\n    <tr>\n      <th>w</th>\n      <td>0.506815</td>\n      <td>7924</td>\n    </tr>\n    <tr>\n      <th>y</th>\n      <td>0.000000</td>\n      <td>8</td>\n    </tr>\n  </tbody>\n</table>\n</div>"
     },
     "metadata": {},
     "execution_count": 22
    }
   ],
   "source": [
    "dataset[['class', 'veil-color']].groupby(['veil-color']).agg(['mean', 'count'])"
   ]
  },
  {
   "source": [
    "veil-color: brown=n,orange=o,white=w,yellow=y\n",
    "\n",
    "- Can't say much about veil volor."
   ],
   "cell_type": "markdown",
   "metadata": {}
  },
  {
   "cell_type": "code",
   "execution_count": 23,
   "metadata": {},
   "outputs": [
    {
     "output_type": "execute_result",
     "data": {
      "text/plain": [
       "                class      \n",
       "                 mean count\n",
       "ring-number                \n",
       "n            0.000000    36\n",
       "o            0.491453  7488\n",
       "t            0.880000   600"
      ],
      "text/html": "<div>\n<style scoped>\n    .dataframe tbody tr th:only-of-type {\n        vertical-align: middle;\n    }\n\n    .dataframe tbody tr th {\n        vertical-align: top;\n    }\n\n    .dataframe thead tr th {\n        text-align: left;\n    }\n\n    .dataframe thead tr:last-of-type th {\n        text-align: right;\n    }\n</style>\n<table border=\"1\" class=\"dataframe\">\n  <thead>\n    <tr>\n      <th></th>\n      <th colspan=\"2\" halign=\"left\">class</th>\n    </tr>\n    <tr>\n      <th></th>\n      <th>mean</th>\n      <th>count</th>\n    </tr>\n    <tr>\n      <th>ring-number</th>\n      <th></th>\n      <th></th>\n    </tr>\n  </thead>\n  <tbody>\n    <tr>\n      <th>n</th>\n      <td>0.000000</td>\n      <td>36</td>\n    </tr>\n    <tr>\n      <th>o</th>\n      <td>0.491453</td>\n      <td>7488</td>\n    </tr>\n    <tr>\n      <th>t</th>\n      <td>0.880000</td>\n      <td>600</td>\n    </tr>\n  </tbody>\n</table>\n</div>"
     },
     "metadata": {},
     "execution_count": 23
    }
   ],
   "source": [
    "dataset[['class', 'ring-number']].groupby(['ring-number']).agg(['mean', 'count'])"
   ]
  },
  {
   "source": [
    "ring-number: none=n,one=o,two=t\n",
    "\n",
    "- two rings may be poisonous."
   ],
   "cell_type": "markdown",
   "metadata": {}
  },
  {
   "cell_type": "code",
   "execution_count": 24,
   "metadata": {},
   "outputs": [
    {
     "output_type": "execute_result",
     "data": {
      "text/plain": [
       "              class      \n",
       "               mean count\n",
       "ring-type                \n",
       "e          0.363112  2776\n",
       "f          1.000000    48\n",
       "l          0.000000  1296\n",
       "n          0.000000    36\n",
       "p          0.794355  3968"
      ],
      "text/html": "<div>\n<style scoped>\n    .dataframe tbody tr th:only-of-type {\n        vertical-align: middle;\n    }\n\n    .dataframe tbody tr th {\n        vertical-align: top;\n    }\n\n    .dataframe thead tr th {\n        text-align: left;\n    }\n\n    .dataframe thead tr:last-of-type th {\n        text-align: right;\n    }\n</style>\n<table border=\"1\" class=\"dataframe\">\n  <thead>\n    <tr>\n      <th></th>\n      <th colspan=\"2\" halign=\"left\">class</th>\n    </tr>\n    <tr>\n      <th></th>\n      <th>mean</th>\n      <th>count</th>\n    </tr>\n    <tr>\n      <th>ring-type</th>\n      <th></th>\n      <th></th>\n    </tr>\n  </thead>\n  <tbody>\n    <tr>\n      <th>e</th>\n      <td>0.363112</td>\n      <td>2776</td>\n    </tr>\n    <tr>\n      <th>f</th>\n      <td>1.000000</td>\n      <td>48</td>\n    </tr>\n    <tr>\n      <th>l</th>\n      <td>0.000000</td>\n      <td>1296</td>\n    </tr>\n    <tr>\n      <th>n</th>\n      <td>0.000000</td>\n      <td>36</td>\n    </tr>\n    <tr>\n      <th>p</th>\n      <td>0.794355</td>\n      <td>3968</td>\n    </tr>\n  </tbody>\n</table>\n</div>"
     },
     "metadata": {},
     "execution_count": 24
    }
   ],
   "source": [
    "dataset[['class', 'ring-type']].groupby(['ring-type']).agg(['mean', 'count'])"
   ]
  },
  {
   "source": [
    "ring-type: cobwebby=c,evanescent=e,flaring=f,large=l,none=n,pendant=p,sheathing=s,zone=z\n",
    "\n",
    "- large ring may be a good sign of poisonous.\n",
    "\n",
    "- **No cobwebby, sheathing, zone.**"
   ],
   "cell_type": "markdown",
   "metadata": {}
  },
  {
   "cell_type": "code",
   "execution_count": 25,
   "metadata": {},
   "outputs": [
    {
     "output_type": "execute_result",
     "data": {
      "text/plain": [
       "                      class      \n",
       "                       mean count\n",
       "spore-print-color                \n",
       "b                  1.000000    48\n",
       "h                  0.029412  1632\n",
       "k                  0.880342  1872\n",
       "n                  0.886179  1968\n",
       "o                  1.000000    48\n",
       "r                  0.000000    72\n",
       "u                  1.000000    48\n",
       "w                  0.241206  2388\n",
       "y                  1.000000    48"
      ],
      "text/html": "<div>\n<style scoped>\n    .dataframe tbody tr th:only-of-type {\n        vertical-align: middle;\n    }\n\n    .dataframe tbody tr th {\n        vertical-align: top;\n    }\n\n    .dataframe thead tr th {\n        text-align: left;\n    }\n\n    .dataframe thead tr:last-of-type th {\n        text-align: right;\n    }\n</style>\n<table border=\"1\" class=\"dataframe\">\n  <thead>\n    <tr>\n      <th></th>\n      <th colspan=\"2\" halign=\"left\">class</th>\n    </tr>\n    <tr>\n      <th></th>\n      <th>mean</th>\n      <th>count</th>\n    </tr>\n    <tr>\n      <th>spore-print-color</th>\n      <th></th>\n      <th></th>\n    </tr>\n  </thead>\n  <tbody>\n    <tr>\n      <th>b</th>\n      <td>1.000000</td>\n      <td>48</td>\n    </tr>\n    <tr>\n      <th>h</th>\n      <td>0.029412</td>\n      <td>1632</td>\n    </tr>\n    <tr>\n      <th>k</th>\n      <td>0.880342</td>\n      <td>1872</td>\n    </tr>\n    <tr>\n      <th>n</th>\n      <td>0.886179</td>\n      <td>1968</td>\n    </tr>\n    <tr>\n      <th>o</th>\n      <td>1.000000</td>\n      <td>48</td>\n    </tr>\n    <tr>\n      <th>r</th>\n      <td>0.000000</td>\n      <td>72</td>\n    </tr>\n    <tr>\n      <th>u</th>\n      <td>1.000000</td>\n      <td>48</td>\n    </tr>\n    <tr>\n      <th>w</th>\n      <td>0.241206</td>\n      <td>2388</td>\n    </tr>\n    <tr>\n      <th>y</th>\n      <td>1.000000</td>\n      <td>48</td>\n    </tr>\n  </tbody>\n</table>\n</div>"
     },
     "metadata": {},
     "execution_count": 25
    }
   ],
   "source": [
    "dataset[['class', 'spore-print-color']].groupby(['spore-print-color']).agg(['mean', 'count'])"
   ]
  },
  {
   "source": [
    "spore-print-color: black=k,brown=n,buff=b,chocolate=h,green=r,orange=o,purple=u,white=w,yellow=y\n",
    "\n",
    "- chocolate may be a good sign of poisonous.\n",
    "\n",
    "- white may be poisonous.\n",
    "\n",
    "- black & brown may be a good sign of edible."
   ],
   "cell_type": "markdown",
   "metadata": {}
  },
  {
   "cell_type": "code",
   "execution_count": 26,
   "metadata": {},
   "outputs": [
    {
     "output_type": "execute_result",
     "data": {
      "text/plain": [
       "               class      \n",
       "                mean count\n",
       "population                \n",
       "a           1.000000   384\n",
       "c           0.847059   340\n",
       "n           1.000000   400\n",
       "s           0.705128  1248\n",
       "v           0.295050  4040\n",
       "y           0.621495  1712"
      ],
      "text/html": "<div>\n<style scoped>\n    .dataframe tbody tr th:only-of-type {\n        vertical-align: middle;\n    }\n\n    .dataframe tbody tr th {\n        vertical-align: top;\n    }\n\n    .dataframe thead tr th {\n        text-align: left;\n    }\n\n    .dataframe thead tr:last-of-type th {\n        text-align: right;\n    }\n</style>\n<table border=\"1\" class=\"dataframe\">\n  <thead>\n    <tr>\n      <th></th>\n      <th colspan=\"2\" halign=\"left\">class</th>\n    </tr>\n    <tr>\n      <th></th>\n      <th>mean</th>\n      <th>count</th>\n    </tr>\n    <tr>\n      <th>population</th>\n      <th></th>\n      <th></th>\n    </tr>\n  </thead>\n  <tbody>\n    <tr>\n      <th>a</th>\n      <td>1.000000</td>\n      <td>384</td>\n    </tr>\n    <tr>\n      <th>c</th>\n      <td>0.847059</td>\n      <td>340</td>\n    </tr>\n    <tr>\n      <th>n</th>\n      <td>1.000000</td>\n      <td>400</td>\n    </tr>\n    <tr>\n      <th>s</th>\n      <td>0.705128</td>\n      <td>1248</td>\n    </tr>\n    <tr>\n      <th>v</th>\n      <td>0.295050</td>\n      <td>4040</td>\n    </tr>\n    <tr>\n      <th>y</th>\n      <td>0.621495</td>\n      <td>1712</td>\n    </tr>\n  </tbody>\n</table>\n</div>"
     },
     "metadata": {},
     "execution_count": 26
    }
   ],
   "source": [
    "dataset[['class', 'population']].groupby(['population']).agg(['mean', 'count'])"
   ]
  },
  {
   "source": [
    "population: abundant=a,clustered=c,numerous=n,scattered=s,several=v,solitary=y\n",
    "\n",
    "- **Describes the size of mushroom population.**\n",
    "\n",
    "- All or most abundant, clustered, numerous are edible."
   ],
   "cell_type": "markdown",
   "metadata": {}
  },
  {
   "cell_type": "code",
   "execution_count": 27,
   "metadata": {},
   "outputs": [
    {
     "output_type": "execute_result",
     "data": {
      "text/plain": [
       "            class      \n",
       "             mean count\n",
       "habitat                \n",
       "d        0.597205  3148\n",
       "g        0.655493  2148\n",
       "l        0.288462   832\n",
       "m        0.876712   292\n",
       "p        0.118881  1144\n",
       "u        0.260870   368\n",
       "w        1.000000   192"
      ],
      "text/html": "<div>\n<style scoped>\n    .dataframe tbody tr th:only-of-type {\n        vertical-align: middle;\n    }\n\n    .dataframe tbody tr th {\n        vertical-align: top;\n    }\n\n    .dataframe thead tr th {\n        text-align: left;\n    }\n\n    .dataframe thead tr:last-of-type th {\n        text-align: right;\n    }\n</style>\n<table border=\"1\" class=\"dataframe\">\n  <thead>\n    <tr>\n      <th></th>\n      <th colspan=\"2\" halign=\"left\">class</th>\n    </tr>\n    <tr>\n      <th></th>\n      <th>mean</th>\n      <th>count</th>\n    </tr>\n    <tr>\n      <th>habitat</th>\n      <th></th>\n      <th></th>\n    </tr>\n  </thead>\n  <tbody>\n    <tr>\n      <th>d</th>\n      <td>0.597205</td>\n      <td>3148</td>\n    </tr>\n    <tr>\n      <th>g</th>\n      <td>0.655493</td>\n      <td>2148</td>\n    </tr>\n    <tr>\n      <th>l</th>\n      <td>0.288462</td>\n      <td>832</td>\n    </tr>\n    <tr>\n      <th>m</th>\n      <td>0.876712</td>\n      <td>292</td>\n    </tr>\n    <tr>\n      <th>p</th>\n      <td>0.118881</td>\n      <td>1144</td>\n    </tr>\n    <tr>\n      <th>u</th>\n      <td>0.260870</td>\n      <td>368</td>\n    </tr>\n    <tr>\n      <th>w</th>\n      <td>1.000000</td>\n      <td>192</td>\n    </tr>\n  </tbody>\n</table>\n</div>"
     },
     "metadata": {},
     "execution_count": 27
    }
   ],
   "source": [
    "dataset[['class', 'habitat']].groupby(['habitat']).agg(['mean', 'count'])"
   ]
  },
  {
   "source": [
    "habitat: grasses=g,leaves=l,meadows=m,paths=p,urban=u,waste=w,woods=d\n",
    "\n",
    "- Most on paths are poisonous."
   ],
   "cell_type": "markdown",
   "metadata": {}
  },
  {
   "source": [
    "### Feature Summary\n",
    "***\n",
    "- Odor:\n",
    "    - Most good or neutral smells are edible (almond, anise, none)\n",
    "    - Most bad smells are poisonous (creosote, fishy, foul, musty, pungent, spicy)\n",
    "\n",
    "- Gill-spacing:\n",
    "    - Most crowded are edible.\n",
    "\n",
    "- Gill-size:\n",
    "    - Most narrow are poisonous.\n",
    "\n",
    "- Gill-color:\n",
    "    - Buff gill color is a good sign of poisonous.\n",
    "    - Gray or chocolate may be poisonous.\n",
    "    - Brown may be edible.\n",
    "\n",
    "- Stalk-surface-above-ring:\n",
    "    - Silky may be a good sign it is poisonous.\n",
    "\n",
    "- Stalk-surface-below-ring:\n",
    "    - Silky may be a good sign it is poisonous.\n",
    "\n",
    "- Ring-number:\n",
    "    - Two may be poisonous.\n",
    "\n",
    "- Ring-type:\n",
    "    - Large may be a good sign of poisonous.\n",
    "\n",
    "- spore-print-color:\n",
    "    - Chocolate may be a good sign of poisonous.\n",
    "    - White may be poisonous.\n",
    "    - Black & brown may be a good sign of edible.\n",
    "\n",
    "- Population:\n",
    "    - All or most abundant, clustered, numerous are edible.\n",
    "\n",
    "- Habitat:\n",
    "    - Most on paths are poisonous."
   ],
   "cell_type": "markdown",
   "metadata": {}
  },
  {
   "cell_type": "code",
   "execution_count": 28,
   "metadata": {},
   "outputs": [
    {
     "output_type": "stream",
     "name": "stdout",
     "text": [
      "<class 'pandas.core.frame.DataFrame'>\nRangeIndex: 8124 entries, 0 to 8123\nData columns (total 23 columns):\n #   Column                    Non-Null Count  Dtype \n---  ------                    --------------  ----- \n 0   class                     8124 non-null   int32 \n 1   cap-shape                 8124 non-null   object\n 2   cap-surface               8124 non-null   object\n 3   cap-color                 8124 non-null   object\n 4   bruises                   8124 non-null   object\n 5   odor                      8124 non-null   object\n 6   gill-attachment           8124 non-null   object\n 7   gill-spacing              8124 non-null   object\n 8   gill-size                 8124 non-null   object\n 9   gill-color                8124 non-null   object\n 10  stalk-shape               8124 non-null   object\n 11  stalk-root                8124 non-null   object\n 12  stalk-surface-above-ring  8124 non-null   object\n 13  stalk-surface-below-ring  8124 non-null   object\n 14  stalk-color-above-ring    8124 non-null   object\n 15  stalk-color-below-ring    8124 non-null   object\n 16  veil-type                 8124 non-null   object\n 17  veil-color                8124 non-null   object\n 18  ring-number               8124 non-null   object\n 19  ring-type                 8124 non-null   object\n 20  spore-print-color         8124 non-null   object\n 21  population                8124 non-null   object\n 22  habitat                   8124 non-null   object\ndtypes: int32(1), object(22)\nmemory usage: 1.4+ MB\n"
     ]
    }
   ],
   "source": [
    "dataset.info()"
   ]
  },
  {
   "source": [
    "## Transforming into X, y dataset"
   ],
   "cell_type": "markdown",
   "metadata": {}
  },
  {
   "cell_type": "code",
   "execution_count": 39,
   "metadata": {},
   "outputs": [],
   "source": [
    "y = dataset['class']\n",
    "\n",
    "dataset_cat = list(dataset.drop('class', axis=1))\n",
    "X_pipeline = ColumnTransformer([\n",
    "    (\"cat\", OneHotEncoder(), dataset_cat)\n",
    "])\n",
    "\n",
    "X_prepared = X_pipeline.fit_transform(dataset)"
   ]
  },
  {
   "cell_type": "code",
   "execution_count": 41,
   "metadata": {},
   "outputs": [
    {
     "output_type": "execute_result",
     "data": {
      "text/plain": [
       "(8124, 117)"
      ]
     },
     "metadata": {},
     "execution_count": 41
    }
   ],
   "source": [
    "X_prepared.toarray().shape"
   ]
  },
  {
   "source": [
    "## Split dataset into train, test sets"
   ],
   "cell_type": "markdown",
   "metadata": {}
  },
  {
   "cell_type": "code",
   "execution_count": 42,
   "metadata": {},
   "outputs": [],
   "source": [
    "X_train, X_test, y_train, y_test = train_test_split(X_prepared, y, test_size=0.4, random_state=42)"
   ]
  },
  {
   "cell_type": "code",
   "execution_count": 43,
   "metadata": {},
   "outputs": [
    {
     "output_type": "execute_result",
     "data": {
      "text/plain": [
       "<4874x117 sparse matrix of type '<class 'numpy.float64'>'\n",
       "\twith 107228 stored elements in Compressed Sparse Row format>"
      ]
     },
     "metadata": {},
     "execution_count": 43
    }
   ],
   "source": [
    "X_train"
   ]
  },
  {
   "cell_type": "code",
   "execution_count": 59,
   "metadata": {},
   "outputs": [
    {
     "output_type": "execute_result",
     "data": {
      "text/plain": [
       "SGDClassifier(random_state=42)"
      ]
     },
     "metadata": {},
     "execution_count": 59
    }
   ],
   "source": [
    "sgd_clf = SGDClassifier(random_state=42)\n",
    "sgd_clf.fit(X_train, y_train)"
   ]
  },
  {
   "cell_type": "code",
   "execution_count": 60,
   "metadata": {},
   "outputs": [],
   "source": [
    "y_train_pred = cross_val_predict(sgd_clf, X_train, y_train, cv=3)"
   ]
  },
  {
   "cell_type": "code",
   "execution_count": 61,
   "metadata": {},
   "outputs": [
    {
     "output_type": "execute_result",
     "data": {
      "text/plain": [
       "0.9988156336360048"
      ]
     },
     "metadata": {},
     "execution_count": 61
    }
   ],
   "source": [
    "f1_score(y_train, y_train_pred)"
   ]
  },
  {
   "cell_type": "code",
   "execution_count": 62,
   "metadata": {},
   "outputs": [
    {
     "output_type": "execute_result",
     "data": {
      "text/plain": [
       "1.0"
      ]
     },
     "metadata": {},
     "execution_count": 62
    }
   ],
   "source": [
    "y_test_pred = sgd_clf.predict(X_test)\n",
    "f1_score(y_test, y_test_pred)"
   ]
  },
  {
   "cell_type": "code",
   "execution_count": null,
   "metadata": {},
   "outputs": [],
   "source": []
  }
 ]
}